{
  "nbformat": 4,
  "nbformat_minor": 0,
  "metadata": {
    "colab": {
      "provenance": []
    },
    "kernelspec": {
      "name": "python3",
      "display_name": "Python 3"
    },
    "language_info": {
      "name": "python"
    }
  },
  "cells": [
    {
      "cell_type": "markdown",
      "source": [
        "1. What is Object-Oriented Programming (OOP)?\n",
        "\n",
        "> OOP is a programming paradigm based on the concept of \"objects\", which contain data attributes and behavior methods. It promotes reusability, scalability, and modularity through four main principles: encapsulation, abstraction, inheritance, and polymorphism.\n",
        "\n",
        "2. What is a class in OOP?\n",
        "\n",
        ">A class is a blueprint or template for creating objects. It defines attributes variables and methods (functions) that describe the behavior of the object.\n",
        "\n",
        "3. What is an object in OOP?\n",
        "\n",
        ">An object is an instance of a class. It represents a specific implementation of the class with actual values.\n",
        "\n",
        "4. What is the difference between abstraction and encapsulation?\n",
        ">Abstraction hides unnecessary details and shows only essential features.\n",
        "Encapsulation binds data and methods together and restricts access using access modifiers like public, private, protected.\n",
        "\n",
        "5. What are dunder methods in Python?\n",
        ">Dunder methods double underscore like __init__, __str__, __len__ are special methods in Python that allow classes to emulate built-in types and implement operator overloading.\n",
        "\n",
        "6. Explain the concept of inheritance in OOP.\n",
        ">Inheritance allows a class child to acquire the properties and behaviors of another class parent, enabling code reuse and hierarchy.\n",
        "Example:\n",
        "          class Animal:\n",
        "              def speak(self):\n",
        "                  print(\"Animal speaks\")\n",
        "\n",
        "          class Dog(Animal):\n",
        "              def speak(self):\n",
        "                  print(\"Dog barks\")\n",
        "\n",
        "7. What is polymorphism in OOP?\n",
        ">Polymorphism allows objects of different classes to be treated as objects of a common superclass. It enables the same method name to behave differently on different classes.\n",
        "\n",
        "You said:\n",
        "Python OOPs Questions\n",
        " What is Object-Oriented Programming (OOP)\n",
        " What is a class in OOP\n",
        " What is an object in OOP\n",
        " What is the difference between abstraction and encapsulation\n",
        " What are dunder methods in Python\n",
        " Explain the concept of inheritance in OOP\n",
        " What is polymorphism in OOP\n",
        " How is encapsulation achieved in Python\n",
        " What is a constructor in Python\n",
        " What are class and static methods in Python\n",
        " What is method overloading in Python\n",
        " What is method overriding in OOP\n",
        " What is a property decorator in Python\n",
        " Why is polymorphism important in OOP\n",
        " What is an abstract class in Python\n",
        " What are the advantages of OOP\n",
        " What is multiple inheritance in Python\n",
        " What is the difference between a class variable and an instance variable\n",
        " Explain the purpose of ‘’__str__’ and ‘__repr__’ ‘ methods in Python\n",
        " What is the significance of the ‘super()’ function in Python\n",
        " What is the significance of the __del__ method in Python\n",
        " What is the difference between @staticmethod and @classmethod in Python\n",
        " How does polymorphism work in Python with inheritance\n",
        " What is method chaining in Python OOP\n",
        " What is the purpose of the __call__ method in Python\n",
        "\n",
        "Answer all questions for assignment\n",
        "\n",
        "ChatGPT said:\n",
        "Here’s a complete set of answers to all your Python OOP assignment questions:\n",
        "\n",
        "1. What is Object-Oriented Programming (OOP)?\n",
        "OOP is a programming paradigm based on the concept of \"objects\", which contain data (attributes) and behavior (methods). It promotes reusability, scalability, and modularity through four main principles: encapsulation, abstraction, inheritance, and polymorphism.\n",
        "\n",
        "2. What is a class in OOP?\n",
        "A class is a blueprint or template for creating objects. It defines attributes (variables) and methods (functions) that describe the behavior of the object.\n",
        "\n",
        "python\n",
        "Copy\n",
        "Edit\n",
        "class Car:\n",
        "    def __init__(self, brand):\n",
        "        self.brand = brand\n",
        "3. What is an object in OOP?\n",
        "An object is an instance of a class. It represents a specific implementation of the class with actual values.\n",
        "\n",
        "python\n",
        "Copy\n",
        "Edit\n",
        "my_car = Car(\"Toyota\")\n",
        "4. What is the difference between abstraction and encapsulation?\n",
        "Abstraction hides unnecessary details and shows only essential features.\n",
        "\n",
        "Encapsulation binds data and methods together and restricts access using access modifiers (like private, protected).\n",
        "\n",
        "5. What are dunder methods in Python?\n",
        "Dunder methods (double underscore) like __init__, __str__, __len__ are special methods in Python that allow classes to emulate built-in types and implement operator overloading.\n",
        "\n",
        "6. Explain the concept of inheritance in OOP.\n",
        "Inheritance allows a class (child) to acquire the properties and behaviors of another class (parent), enabling code reuse and hierarchy.\n",
        "\n",
        "python\n",
        "Copy\n",
        "Edit\n",
        "class Animal:\n",
        "    def speak(self):\n",
        "        print(\"Animal speaks\")\n",
        "\n",
        "class Dog(Animal):\n",
        "    def speak(self):\n",
        "        print(\"Dog barks\")\n",
        "7. What is polymorphism in OOP?\n",
        "Polymorphism allows objects of different classes to be treated as objects of a common superclass. It enables the same method name to behave differently on different classes.\n",
        "\n",
        "python\n",
        "Copy\n",
        "Edit\n",
        "def animal_sound(animal):\n",
        "    animal.speak()\n",
        "8. How is encapsulation achieved in Python?\n",
        "\n",
        ">Encapsulation is achieved using access modifiers:\n",
        "\n",
        "  _var: protected\n",
        "  __var: private\n",
        "\n",
        "9. What is a constructor in Python?\n",
        "\n",
        ">A constructor is a special method (__init__) that gets called when an object is instantiated. It initializes the object’s attributes.\n",
        "\n",
        "10. What are class and static methods in Python?\n",
        ">Class methods use @classmethod and take cls as the first argument.\n",
        "Static methods use @staticmethod and don’t take self or cls.\n",
        "\n",
        "11. What is method overloading in Python?\n",
        "\n",
        ">Python does not support traditional method overloading. You can achieve similar behavior using default arguments or variable arguments (*args, **kwargs).\n",
        "\n",
        "12. What is method overriding in OOP?\n",
        "\n",
        ">Method overriding occurs when a subclass provides a specific implementation of a method already defined in its parent class.\n",
        "\n",
        "13. What is a property decorator in Python?\n",
        "\n",
        ">The @property decorator is used to create read-only or managed attributes. It allows method access like attribute access.\n",
        "\n",
        "14. Why is polymorphism important in OOP?\n",
        "\n",
        ">Polymorphism enables flexibility and reusability of code by allowing the same interface to behave differently for different data types.\n",
        "\n",
        "15. What is an abstract class in Python?\n",
        "\n",
        ">An abstract class is a class that cannot be instantiated and is used as a base class. It contains one or more abstract methods defined using @abstractmethod from the abc module.\n",
        "\n",
        "16. What are the advantages of OOP?\n",
        "\n",
        ">Reusability through inheritance\n",
        "\n",
        ">Scalability and maintainability\n",
        "\n",
        ">Encapsulation for security\n",
        "\n",
        ">Flexibility with polymorphism\n",
        "\n",
        ">Real-world modeling\n",
        "\n",
        "17. What is multiple inheritance in Python?\n",
        "\n",
        ">Multiple inheritance means a class can inherit from more than one class.\n",
        "\n",
        "18. What is the difference between a class variable and an instance variable?\n",
        ">Class variables are shared across all instances.\n",
        "Instance variables are unique to each object.\n",
        "\n",
        "19. Explain the purpose of __str__ and __repr__ methods in Python\n",
        "\n",
        ">__str__: Returns a readable string for end users.\n",
        "\n",
        ">__repr__: Returns an official string representation, used for debugging.\n",
        "\n",
        "20. What is the significance of the super() function in Python?\n",
        "\n",
        ">super() is used to call methods of the parent class, often inside constructors to initialize parent properties.\n",
        "\n",
        "21. What is the significance of the __del__ method in Python?\n",
        "\n",
        ">__del__ is a destructor method called when an object is deleted or garbage collected. It’s used for cleanup.\n",
        "\n",
        "22. What is the difference between @staticmethod and @classmethod in Python?\n",
        "\n",
        ">@staticmethod: Doesn't take self or cls.\n",
        "\n",
        ">@classmethod: Takes cls as its first parameter and can modify class-level data.\n",
        "\n",
        "23. How does polymorphism work in Python with inheritance?\n",
        "\n",
        ">Through method overriding and common interfaces, you can write functions that operate on parent classes but also work with child classes.\n",
        "\n",
        "24. What is method chaining in Python OOP?\n",
        "\n",
        ">Method chaining allows multiple method calls in a single line by returning self from methods.\n",
        "\n",
        "25. What is the purpose of the __call__ method in Python?\n",
        "\n",
        ">__call__ lets an object be called like a function. It's useful for callable objects or functional-style behavior."
      ],
      "metadata": {
        "id": "YXvbc4f6ciiT"
      }
    },
    {
      "cell_type": "code",
      "source": [
        "# 1. Create a parent class Animal with a method speak() that prints a generic message. Create a child class Dog that overrides the speak() method to print \"Bark!\".\n",
        "\n",
        "class Animal:\n",
        "    def speak(self):\n",
        "        print(\"Animal makes a sound\")\n",
        "\n",
        "class Dog(Animal):\n",
        "    def speak(self):\n",
        "        print(\"Bark!\")\n",
        "\n",
        "dog = Dog()\n",
        "dog.speak()\n"
      ],
      "metadata": {
        "colab": {
          "base_uri": "https://localhost:8080/"
        },
        "id": "keB7tCcXgrRx",
        "outputId": "f03d2840-c331-47f2-9bd2-98daa799484c"
      },
      "execution_count": 1,
      "outputs": [
        {
          "output_type": "stream",
          "name": "stdout",
          "text": [
            "Bark!\n"
          ]
        }
      ]
    },
    {
      "cell_type": "code",
      "source": [
        "# 2.Write a program to create an abstract class Shape with a method area(). Derive classes Circle and Rectangle from it and implement the area() method in both.\n",
        "from abc import ABC, abstractmethod\n",
        "import math\n",
        "\n",
        "class Shape(ABC):\n",
        "    @abstractmethod\n",
        "    def area(self):\n",
        "        pass\n",
        "\n",
        "class Circle(Shape):\n",
        "    def __init__(self, radius):\n",
        "        self.radius = radius\n",
        "\n",
        "    def area(self):\n",
        "        return math.pi * self.radius ** 2\n",
        "\n",
        "class Rectangle(Shape):\n",
        "    def __init__(self, length, width):\n",
        "        self.length = length\n",
        "        self.width = width\n",
        "\n",
        "    def area(self):\n",
        "        return self.length * self.width\n",
        "\n",
        "if __name__ == \"__main__\":\n",
        "    circle = Circle(5)\n",
        "    rectangle = Rectangle(4, 6)\n",
        "\n",
        "    print(f\"Area of Circle: {circle.area():.2f}\")\n",
        "    print(f\"Area of Rectangle: {rectangle.area():.2f}\")\n"
      ],
      "metadata": {
        "colab": {
          "base_uri": "https://localhost:8080/"
        },
        "id": "A-cjdrIFhE8X",
        "outputId": "a0c49c5d-9b48-495d-9114-a65699b4cdaa"
      },
      "execution_count": 1,
      "outputs": [
        {
          "output_type": "stream",
          "name": "stdout",
          "text": [
            "Area of Circle: 78.54\n",
            "Area of Rectangle: 24.00\n"
          ]
        }
      ]
    },
    {
      "cell_type": "code",
      "source": [
        "# 3. Implement a multi-level inheritance scenario where a class Vehicle has an attribute type. Derive a class Car and further derive a class ElectricCar that adds a battery attribute.\n",
        "# Base class\n",
        "class Vehicle:\n",
        "    def __init__(self, vehicle_type):\n",
        "        self.vehicle_type = vehicle_type\n",
        "\n",
        "    def display_info(self):\n",
        "        print(f\"Vehicle Type: {self.vehicle_type}\")\n",
        "\n",
        "# Derived class from Vehicle\n",
        "class Car(Vehicle):\n",
        "    def __init__(self, vehicle_type, brand):\n",
        "        super().__init__(vehicle_type)\n",
        "        self.brand = brand\n",
        "\n",
        "    def display_info(self):\n",
        "        super().display_info()\n",
        "        print(f\"Car Brand: {self.brand}\")\n",
        "\n",
        "# Further derived class from Car\n",
        "class ElectricCar(Car):\n",
        "    def __init__(self, vehicle_type, brand, battery_capacity):\n",
        "        super().__init__(vehicle_type, brand)\n",
        "        self.battery_capacity = battery_capacity\n",
        "\n",
        "    def display_info(self):\n",
        "        super().display_info()\n",
        "        print(f\"Battery Capacity: {self.battery_capacity} kWh\")\n",
        "\n",
        "if __name__ == \"__main__\":\n",
        "    tesla = ElectricCar(\"Four Wheeler\", \"Tesla\", 75)\n",
        "    tesla.display_info()\n"
      ],
      "metadata": {
        "colab": {
          "base_uri": "https://localhost:8080/"
        },
        "id": "Vzei5BSC-qWc",
        "outputId": "bf25af64-05c0-4155-bb9e-41cbcf2b9ba9"
      },
      "execution_count": 2,
      "outputs": [
        {
          "output_type": "stream",
          "name": "stdout",
          "text": [
            "Vehicle Type: Four Wheeler\n",
            "Car Brand: Tesla\n",
            "Battery Capacity: 75 kWh\n"
          ]
        }
      ]
    },
    {
      "cell_type": "code",
      "source": [
        "# 4. Demonstrate polymorphism by creating a base class Bird with a method fly(). Create two derived classes Sparrow and Penguin that override the fly() method.\n",
        "# Base class\n",
        "class Bird:\n",
        "    def fly(self):\n",
        "        print(\"Some birds can fly.\")\n",
        "\n",
        "# Derived class: Sparrow\n",
        "class Sparrow(Bird):\n",
        "    def fly(self):\n",
        "        print(\"Sparrow flies high in the sky.\")\n",
        "\n",
        "# Derived class: Penguin\n",
        "class Penguin(Bird):\n",
        "    def fly(self):\n",
        "        print(\"Penguins can't fly, they swim instead.\")\n",
        "\n",
        "# Function to demonstrate polymorphism\n",
        "def bird_fly(bird):\n",
        "    bird.fly()\n",
        "\n",
        "# Example usage\n",
        "if __name__ == \"__main__\":\n",
        "    b1 = Sparrow()\n",
        "    b2 = Penguin()\n",
        "\n",
        "    bird_fly(b1)\n",
        "    bird_fly(b2)"
      ],
      "metadata": {
        "colab": {
          "base_uri": "https://localhost:8080/"
        },
        "id": "gxBZXjT5_bJo",
        "outputId": "0978e041-48bc-4b38-9cc6-724e065483b1"
      },
      "execution_count": 3,
      "outputs": [
        {
          "output_type": "stream",
          "name": "stdout",
          "text": [
            "Sparrow flies high in the sky.\n",
            "Penguins can't fly, they swim instead.\n"
          ]
        }
      ]
    },
    {
      "cell_type": "code",
      "source": [
        "#5. Write a program to demonstrate encapsulation by creating a class BankAccount with private attributes balance and methods to deposit, withdraw, and check balance.\n",
        "class BankAccount:\n",
        "    def __init__(self, initial_balance=0):\n",
        "        self.__balance = initial_balance\n",
        "\n",
        "    def deposit(self, amount):\n",
        "        if amount > 0:\n",
        "            self.__balance += amount\n",
        "            print(f\"Deposited ₹{amount}\")\n",
        "        else:\n",
        "            print(\"Deposit amount must be positive.\")\n",
        "\n",
        "    def withdraw(self, amount):\n",
        "        if amount > 0:\n",
        "            if amount <= self.__balance:\n",
        "                self.__balance -= amount\n",
        "                print(f\"Withdrew ₹{amount}\")\n",
        "            else:\n",
        "                print(\"Insufficient balance.\")\n",
        "        else:\n",
        "            print(\"Withdrawal amount must be positive.\")\n",
        "\n",
        "    def check_balance(self):\n",
        "        print(f\"Current Balance: ₹{self.__balance}\")\n",
        "\n",
        "if __name__ == \"__main__\":\n",
        "    account = BankAccount(1000)\n",
        "    account.check_balance()\n",
        "\n",
        "    account.deposit(500)\n",
        "    account.check_balance()\n",
        "\n",
        "    account.withdraw(300)\n",
        "    account.check_balance()\n",
        "\n",
        "    account.withdraw(1500)"
      ],
      "metadata": {
        "colab": {
          "base_uri": "https://localhost:8080/"
        },
        "id": "XAx0ydEK_ofk",
        "outputId": "1b0489f3-1f46-4733-8a2d-d1e6e4396567"
      },
      "execution_count": 4,
      "outputs": [
        {
          "output_type": "stream",
          "name": "stdout",
          "text": [
            "Current Balance: ₹1000\n",
            "Deposited ₹500\n",
            "Current Balance: ₹1500\n",
            "Withdrew ₹300\n",
            "Current Balance: ₹1200\n",
            "Insufficient balance.\n"
          ]
        }
      ]
    },
    {
      "cell_type": "code",
      "source": [
        "#6. Demonstrate runtime polymorphism using a method play() in a base class Instrument. Derive classes Guitar and Piano that implement their own version of play().\n",
        "# Base class\n",
        "class Instrument:\n",
        "    def play(self):\n",
        "        print(\"Playing an instrument...\")\n",
        "\n",
        "# Derived class: Guitar\n",
        "class Guitar(Instrument):\n",
        "    def play(self):\n",
        "        print(\"Strumming the guitar... \")\n",
        "\n",
        "# Derived class: Piano\n",
        "class Piano(Instrument):\n",
        "    def play(self):\n",
        "        print(\"Playing the piano...\")\n",
        "\n",
        "def start_playing(instrument):\n",
        "    instrument.play()\n",
        "\n",
        "if __name__ == \"__main__\":\n",
        "    i1 = Guitar()\n",
        "    i2 = Piano()\n",
        "\n",
        "    start_playing(i1)\n",
        "    start_playing(i2)"
      ],
      "metadata": {
        "colab": {
          "base_uri": "https://localhost:8080/"
        },
        "id": "bx4JIIgtALYX",
        "outputId": "6f64fac2-8d25-4461-d141-1f8a25547841"
      },
      "execution_count": 5,
      "outputs": [
        {
          "output_type": "stream",
          "name": "stdout",
          "text": [
            "Strumming the guitar... 🎸\n",
            "Playing the piano... 🎹\n"
          ]
        }
      ]
    },
    {
      "cell_type": "code",
      "source": [
        "# 7. Create a class MathOperations with a class method add_numbers() to add two numbers and a static method subtract_numbers() to subtract two numbers.\n",
        "class MathOperations:\n",
        "    @classmethod\n",
        "    def add_numbers(cls, a, b):\n",
        "        return a + b\n",
        "\n",
        "    @staticmethod\n",
        "    def subtract_numbers(a, b):\n",
        "        return a - b\n",
        "\n",
        "if __name__ == \"__main__\":\n",
        "    result1 = MathOperations.add_numbers(10, 5)\n",
        "    result2 = MathOperations.subtract_numbers(10, 5)\n",
        "\n",
        "    print(f\"Addition: {result1}\")\n",
        "    print(f\"Subtraction: {result2}\")\n"
      ],
      "metadata": {
        "colab": {
          "base_uri": "https://localhost:8080/"
        },
        "id": "lWrbj5nlAvVL",
        "outputId": "533bcb5b-84ea-4014-f336-f90979548cb9"
      },
      "execution_count": 6,
      "outputs": [
        {
          "output_type": "stream",
          "name": "stdout",
          "text": [
            "Addition: 15\n",
            "Subtraction: 5\n"
          ]
        }
      ]
    },
    {
      "cell_type": "code",
      "source": [
        "#8. Implement a class Person with a class method to count the total number of persons created.\n",
        "class Person:\n",
        "    count = 0\n",
        "\n",
        "    def __init__(self, name):\n",
        "        self.name = name\n",
        "        Person.count += 1\n",
        "\n",
        "    @classmethod\n",
        "    def total_persons(cls):\n",
        "        return cls.count\n",
        "\n",
        "if __name__ == \"__main__\":\n",
        "    p1 = Person(\"Alice\")\n",
        "    p2 = Person(\"Bob\")\n",
        "    p3 = Person(\"Charlie\")\n",
        "\n",
        "    print(f\"Total Persons Created: {Person.total_persons()}\")\n"
      ],
      "metadata": {
        "colab": {
          "base_uri": "https://localhost:8080/"
        },
        "id": "mnOAOF98BMmf",
        "outputId": "51536dda-574a-422b-d8b0-ecc447580317"
      },
      "execution_count": 7,
      "outputs": [
        {
          "output_type": "stream",
          "name": "stdout",
          "text": [
            "Total Persons Created: 3\n"
          ]
        }
      ]
    },
    {
      "cell_type": "code",
      "source": [
        " #9. Write a class Fraction with attributes numerator and denominator. Override the str method to display the fraction as \"numerator/denominator\".\n",
        " class Fraction:\n",
        "    def __init__(self, numerator, denominator):\n",
        "        self.numerator = numerator\n",
        "        self.denominator = denominator\n",
        "\n",
        "    def __str__(self):\n",
        "        return f\"{self.numerator}/{self.denominator}\"\n",
        "\n",
        "if __name__ == \"__main__\":\n",
        "    f1 = Fraction(3, 4)\n",
        "    print(f1)\n"
      ],
      "metadata": {
        "colab": {
          "base_uri": "https://localhost:8080/"
        },
        "id": "mm1z7RE9BUwT",
        "outputId": "406b269a-0fcf-4431-cb9c-0717f34e7acc"
      },
      "execution_count": 8,
      "outputs": [
        {
          "output_type": "stream",
          "name": "stdout",
          "text": [
            "3/4\n"
          ]
        }
      ]
    },
    {
      "cell_type": "code",
      "source": [
        "# 10. Demonstrate operator overloading by creating a class Vector and overriding the add method to add two vectors.\n",
        "class Vector:\n",
        "    def __init__(self, x, y):\n",
        "        self.x = x\n",
        "        self.y = y\n",
        "\n",
        "    def __add__(self, other):\n",
        "        return Vector(self.x + other.x, self.y + other.y)\n",
        "\n",
        "    def __str__(self):\n",
        "        return f\"Vector({self.x}, {self.y})\"\n",
        "\n",
        "if __name__ == \"__main__\":\n",
        "    v1 = Vector(2, 3)\n",
        "    v2 = Vector(4, 5)\n",
        "    result = v1 + v2\n",
        "    print(result)\n"
      ],
      "metadata": {
        "colab": {
          "base_uri": "https://localhost:8080/"
        },
        "id": "JKzSy8NSBjMu",
        "outputId": "39213e17-b425-4116-c48e-8cda00ff5af6"
      },
      "execution_count": 9,
      "outputs": [
        {
          "output_type": "stream",
          "name": "stdout",
          "text": [
            "Vector(6, 8)\n"
          ]
        }
      ]
    },
    {
      "cell_type": "code",
      "source": [
        "# 11. Create a class Person with attributes name and age. Add a method greet() that prints \"Hello, my name is {name} and I am {age} years old.\"\n",
        "class Person:\n",
        "    def __init__(self, name, age):\n",
        "        self.name = name\n",
        "        self.age = age\n",
        "\n",
        "    def greet(self):\n",
        "        print(f\"Hello, my name is {self.name} and I am {self.age} years old.\")\n",
        "\n",
        "if __name__ == \"__main__\":\n",
        "    p = Person(\"Aarav\", 25)\n",
        "    p.greet()\n"
      ],
      "metadata": {
        "colab": {
          "base_uri": "https://localhost:8080/"
        },
        "id": "D34l0wqbCEn4",
        "outputId": "8e95ab96-357b-4d55-92cf-78f1a97d4b01"
      },
      "execution_count": 10,
      "outputs": [
        {
          "output_type": "stream",
          "name": "stdout",
          "text": [
            "Hello, my name is Aarav and I am 25 years old.\n"
          ]
        }
      ]
    },
    {
      "cell_type": "code",
      "source": [
        "# 12. Implement a class Student with attributes name and grades. Create a method average_grade() to compute the average of the grades.\n",
        "class Student:\n",
        "    def __init__(self, name, grades):\n",
        "        self.name = name\n",
        "        self.grades = grades\n",
        "\n",
        "    def average_grade(self):\n",
        "        return sum(self.grades) / len(self.grades)\n",
        "\n",
        "if __name__ == \"__main__\":\n",
        "    s = Student(\"John\", [85, 90, 78, 92])\n",
        "    print(f\"Average Grade of {s.name}: {s.average_grade():.2f}\")\n"
      ],
      "metadata": {
        "colab": {
          "base_uri": "https://localhost:8080/"
        },
        "id": "oBSGwmPYCUeE",
        "outputId": "31eadec0-97b5-4fc8-828b-39b0af8b2e3b"
      },
      "execution_count": 11,
      "outputs": [
        {
          "output_type": "stream",
          "name": "stdout",
          "text": [
            "Average Grade of John: 86.25\n"
          ]
        }
      ]
    },
    {
      "cell_type": "code",
      "source": [
        "# 13. Create a class Rectangle with methods set_dimensions() to set the dimensions and area() to calculate the area.\n",
        "class Rectangle:\n",
        "    def __init__(self):\n",
        "        self.length = 0\n",
        "        self.width = 0\n",
        "\n",
        "    def set_dimensions(self, length, width):\n",
        "        self.length = length\n",
        "        self.width = width\n",
        "\n",
        "    def area(self):\n",
        "        return self.length * self.width\n",
        "\n",
        "if __name__ == \"__main__\":\n",
        "    rect = Rectangle()\n",
        "    rect.set_dimensions(5, 3)\n",
        "    print(f\"Area of Rectangle: {rect.area()}\")\n"
      ],
      "metadata": {
        "colab": {
          "base_uri": "https://localhost:8080/"
        },
        "id": "E6u8Qv5MCo5Q",
        "outputId": "fc3b271e-3cfd-447e-8319-e76880515e7b"
      },
      "execution_count": 12,
      "outputs": [
        {
          "output_type": "stream",
          "name": "stdout",
          "text": [
            "Area of Rectangle: 15\n"
          ]
        }
      ]
    },
    {
      "cell_type": "code",
      "source": [
        "#14. Create a class Employee with a method calculate_salary() that computes the salary based on hours worked and hourly rate. Create a derived class Manager that adds a bonus to the salary.\n",
        "class Employee:\n",
        "    def __init__(self, name, hours_worked, hourly_rate):\n",
        "        self.name = name\n",
        "        self.hours_worked = hours_worked\n",
        "        self.hourly_rate = hourly_rate\n",
        "\n",
        "    def calculate_salary(self):\n",
        "        return self.hours_worked * self.hourly_rate\n",
        "\n",
        "class Manager(Employee):\n",
        "    def __init__(self, name, hours_worked, hourly_rate, bonus):\n",
        "        super().__init__(name, hours_worked, hourly_rate)\n",
        "        self.bonus = bonus\n",
        "\n",
        "    def calculate_salary(self):\n",
        "        return super().calculate_salary() + self.bonus\n",
        "\n",
        "if __name__ == \"__main__\":\n",
        "    e1 = Employee(\"Akarshak\", 160, 20)\n",
        "    print(f\"{e1.name}'s Salary: ${e1.calculate_salary()}\")\n",
        "\n",
        "    m1 = Manager(\"Saumya\", 160, 25, 1000)\n",
        "    print(f\"{m1.name}'s Salary: ${m1.calculate_salary()}\")\n"
      ],
      "metadata": {
        "colab": {
          "base_uri": "https://localhost:8080/"
        },
        "id": "EJYy-EZ3Cz7_",
        "outputId": "0711874f-a107-4dab-fe39-8773dd02541f"
      },
      "execution_count": 15,
      "outputs": [
        {
          "output_type": "stream",
          "name": "stdout",
          "text": [
            "Akarshak's Salary: $3200\n",
            "Saumya's Salary: $5000\n"
          ]
        }
      ]
    },
    {
      "cell_type": "code",
      "source": [
        "#15. Create a class Product with attributes name, price, and quantity. Implement a method total_price() that calculates the total price of the product.\n",
        "class Product:\n",
        "    def __init__(self, name, price, quantity):\n",
        "        self.name = name\n",
        "        self.price = price\n",
        "        self.quantity = quantity\n",
        "\n",
        "    def total_price(self):\n",
        "        return self.price * self.quantity\n",
        "\n",
        "if __name__ == \"__main__\":\n",
        "    p1 = Product(\"Laptop\", 1000, 3)\n",
        "    print(f\"Total price for {p1.name}: ${p1.total_price()}\")\n"
      ],
      "metadata": {
        "colab": {
          "base_uri": "https://localhost:8080/"
        },
        "id": "8sbjtBdsDEZq",
        "outputId": "e3ea8304-dff9-44a9-ecca-8362cb24377c"
      },
      "execution_count": 16,
      "outputs": [
        {
          "output_type": "stream",
          "name": "stdout",
          "text": [
            "Total price for Laptop: $3000\n"
          ]
        }
      ]
    },
    {
      "cell_type": "code",
      "source": [
        "# 16. Create a class Animal with an abstract method sound(). Create two derived classes Cow and Sheep that implement the sound() method.\n",
        "from abc import ABC, abstractmethod\n",
        "\n",
        "class Animal(ABC):\n",
        "    @abstractmethod\n",
        "    def sound(self):\n",
        "        pass\n",
        "\n",
        "class Cow(Animal):\n",
        "    def sound(self):\n",
        "        return \"Moo\"\n",
        "\n",
        "class Sheep(Animal):\n",
        "    def sound(self):\n",
        "        return \"Baa\"\n",
        "\n",
        "if __name__ == \"__main__\":\n",
        "    cow = Cow()\n",
        "    sheep = Sheep()\n",
        "\n",
        "    print(f\"Cow sound: {cow.sound()}\")\n",
        "    print(f\"Sheep sound: {sheep.sound()}\")\n"
      ],
      "metadata": {
        "colab": {
          "base_uri": "https://localhost:8080/"
        },
        "id": "bvJumkWLDuba",
        "outputId": "ac77f8b7-22bb-44b8-f5ef-1aa0f403bdfe"
      },
      "execution_count": 17,
      "outputs": [
        {
          "output_type": "stream",
          "name": "stdout",
          "text": [
            "Cow sound: Moo\n",
            "Sheep sound: Baa\n"
          ]
        }
      ]
    },
    {
      "cell_type": "code",
      "source": [
        "#17. Create a class Book with attributes title, author, and year_published. Add a method get_book_info() that returns a formatted string with the book's details.\n",
        "class Book:\n",
        "    def __init__(self, title, author, year_published):\n",
        "        self.title = title\n",
        "        self.author = author\n",
        "        self.year_published = year_published\n",
        "\n",
        "    def get_book_info(self):\n",
        "        return f\"Title: {self.title}, Author: {self.author}, Year Published: {self.year_published}\"\n",
        "\n",
        "if __name__ == \"__main__\":\n",
        "    book = Book(\"The Great Gatsby\", \"F. Scott Fitzgerald\", 1925)\n",
        "    print(book.get_book_info())\n"
      ],
      "metadata": {
        "colab": {
          "base_uri": "https://localhost:8080/"
        },
        "id": "htOoHnj9D5Py",
        "outputId": "1d8291c6-9e9a-4474-d03c-154a6e3d1783"
      },
      "execution_count": 18,
      "outputs": [
        {
          "output_type": "stream",
          "name": "stdout",
          "text": [
            "Title: The Great Gatsby, Author: F. Scott Fitzgerald, Year Published: 1925\n"
          ]
        }
      ]
    },
    {
      "cell_type": "code",
      "source": [
        "# 18. Create a class House with attributes address and price. Create a derived class Mansion that adds an attribute number_of_rooms.\n",
        "class House:\n",
        "    def __init__(self, address, price):\n",
        "        self.address = address\n",
        "        self.price = price\n",
        "\n",
        "    def display_info(self):\n",
        "        print(f\"Address: {self.address}\")\n",
        "        print(f\"Price: ${self.price}\")\n",
        "\n",
        "class Mansion(House):\n",
        "    def __init__(self, address, price, number_of_rooms):\n",
        "        super().__init__(address, price)\n",
        "        self.number_of_rooms = number_of_rooms\n",
        "\n",
        "    def display_info(self):\n",
        "        super().display_info()\n",
        "        print(f\"Number of Rooms: {self.number_of_rooms}\")\n",
        "\n",
        "mansion = Mansion(\"123 Luxury St.\", 5000000, 10)\n",
        "mansion.display_info()\n"
      ],
      "metadata": {
        "colab": {
          "base_uri": "https://localhost:8080/"
        },
        "id": "_UGXI1v6EDAQ",
        "outputId": "192dd330-6f6f-4a1a-c8cb-12e37e0ee9eb"
      },
      "execution_count": 19,
      "outputs": [
        {
          "output_type": "stream",
          "name": "stdout",
          "text": [
            "Address: 123 Luxury St.\n",
            "Price: $5000000\n",
            "Number of Rooms: 10\n"
          ]
        }
      ]
    },
    {
      "cell_type": "code",
      "source": [],
      "metadata": {
        "id": "ITD_L1FOEde-"
      },
      "execution_count": null,
      "outputs": []
    }
  ]
}